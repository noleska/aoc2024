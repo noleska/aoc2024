{
  "nbformat": 4,
  "nbformat_minor": 0,
  "metadata": {
    "colab": {
      "provenance": []
    },
    "kernelspec": {
      "name": "python3",
      "display_name": "Python 3"
    },
    "language_info": {
      "name": "python"
    }
  },
  "cells": [
    {
      "cell_type": "code",
      "execution_count": null,
      "metadata": {
        "id": "UAC_j-40RdeC"
      },
      "outputs": [],
      "source": [
        "import csv"
      ]
    },
    {
      "cell_type": "code",
      "source": [
        "ls0=[]\n",
        "ls1=[]\n",
        "\n",
        "with open(r'input.txt', newline='') as csvfile:\n",
        "    spamreader = csv.reader(csvfile, delimiter=' ')\n",
        "    for row in spamreader:\n",
        "      ls0.append(int(row[0]))\n",
        "      ls1.append(int(row[3]))\n",
        "\n",
        "ls0.sort()\n",
        "ls1.sort()\n"
      ],
      "metadata": {
        "id": "ZiKaW2_ORj_T"
      },
      "execution_count": null,
      "outputs": []
    },
    {
      "cell_type": "code",
      "source": [
        "tot_of_dists = 0\n",
        "\n",
        "for i in range(0, len(ls0)):\n",
        "  num0 = ls0[i]\n",
        "  num1 = ls1[i]\n",
        "  dist = 0\n",
        "  if num0 > num1:\n",
        "    dist = num0 - num1\n",
        "  else:\n",
        "    dist = num1 - num0\n",
        "  tot_of_dists += dist\n",
        "\n",
        "print(\"Part 1:\", tot_of_dists)\n",
        "\n"
      ],
      "metadata": {
        "colab": {
          "base_uri": "https://localhost:8080/"
        },
        "id": "skqZHY86RuBJ",
        "outputId": "07b6d600-ee46-462e-c6f8-6c618e2d7816"
      },
      "execution_count": null,
      "outputs": [
        {
          "output_type": "stream",
          "name": "stdout",
          "text": [
            "Part 1: 3246517\n"
          ]
        }
      ]
    },
    {
      "cell_type": "code",
      "source": [
        "similarity_score = 0\n",
        "\n",
        "for item in ls0:\n",
        "  num_appearances = 0\n",
        "  for jtem in ls1:\n",
        "    if item == jtem:\n",
        "      num_appearances += 1\n",
        "  similarity_score += item * num_appearances\n",
        "\n",
        "print(\"Part 2:\", similarity_score)\n"
      ],
      "metadata": {
        "colab": {
          "base_uri": "https://localhost:8080/"
        },
        "id": "Wci6GVknUK9G",
        "outputId": "5a98a653-dbfa-41bf-befc-5f1b4bc85386"
      },
      "execution_count": null,
      "outputs": [
        {
          "output_type": "stream",
          "name": "stdout",
          "text": [
            "Part 2: 29379307\n"
          ]
        }
      ]
    }
  ]
}
